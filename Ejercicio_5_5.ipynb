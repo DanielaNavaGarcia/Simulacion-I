{
  "nbformat": 4,
  "nbformat_minor": 0,
  "metadata": {
    "colab": {
      "provenance": [],
      "authorship_tag": "ABX9TyMSXyC42KNJ1/nmVCESRfFs",
      "include_colab_link": true
    },
    "kernelspec": {
      "name": "python3",
      "display_name": "Python 3"
    },
    "language_info": {
      "name": "python"
    }
  },
  "cells": [
    {
      "cell_type": "markdown",
      "metadata": {
        "id": "view-in-github",
        "colab_type": "text"
      },
      "source": [
        "<a href=\"https://colab.research.google.com/github/DanielaNavaGarcia/Simulacion-I/blob/main/Ejercicio_5_5.ipynb\" target=\"_parent\"><img src=\"https://colab.research.google.com/assets/colab-badge.svg\" alt=\"Open In Colab\"/></a>"
      ]
    },
    {
      "cell_type": "code",
      "execution_count": 1,
      "metadata": {
        "colab": {
          "base_uri": "https://localhost:8080/"
        },
        "id": "cIZ3iOKCyznw",
        "outputId": "50ceb17b-c153-447f-8322-4973d21400c9"
      },
      "outputs": [
        {
          "output_type": "stream",
          "name": "stdout",
          "text": [
            "Coste promedio anual: 7690.21\n",
            "Costo inventario promedio: 490.33\n",
            "Costo faltante promedio: 6580.00\n"
          ]
        }
      ],
      "source": [
        "import numpy as np\n",
        "\n",
        "# Entradas del problema\n",
        "demand_vals = np.array([35,36,37,38,39,40,41,42,43,\n",
        "                        44,45,46,47,48,49,50,51,52,\n",
        "                        53,54,55,56,57,58,59,60])\n",
        "demand_prob = np.array([0.01,0.015,0.02,0.02,0.022,0.023,0.025,0.027,0.028,\n",
        "                        0.029,0.035,0.045,0.06,0.065,0.07,0.08,0.075,0.07,\n",
        "                        0.065,0.06,0.05,0.04,0.03,0.016,0.015,0.005])\n",
        "lead_time_vals = np.array([1,2,3])\n",
        "lead_time_prob = np.array([0.30,0.40,0.30])\n",
        "seasonal = {1:1.20,2:1.00,3:0.90,4:0.80,5:0.80,6:0.70,\n",
        "            7:0.80,8:0.90,9:1.00,10:1.20,11:1.30,12:1.40}\n",
        "# Costos\n",
        "co, c_h, c_s = 100, 20/12, 50  # ordenar, inventario mensual (20 anual), faltante\n",
        "\n",
        "# Política (r, Q) fija: aquí puedes ajustar\n",
        "r = 40\n",
        "Q = 50\n",
        "\n",
        "def sim_month(months=12, reps=10000):\n",
        "    costs = []\n",
        "    for _ in range(reps):\n",
        "        inv = r + Q  # iniciar con nivel de reorden\n",
        "        pending = []  # lista de pedidos en tránsito (cantidad, meses_restantes)\n",
        "        total_holding = total_short = total_order = 0.0\n",
        "        for m in range(1, months+1):\n",
        "            # generar demanda estocástica ajustada por estacionalidad\n",
        "            d = np.random.choice(demand_vals, p=demand_prob) * seasonal[m]\n",
        "            # recibir pedidos según lead time\n",
        "            for i,(q,t) in enumerate(pending[:]):\n",
        "                pending[i] = (q, t-1)\n",
        "            rec = sum(q for q,t in pending if t<=0)\n",
        "            pending = [(q,t) for (q,t) in pending if t>0]\n",
        "            inv += rec\n",
        "            # atender demanda\n",
        "            sold = min(inv, d)\n",
        "            short = max(0, d - inv)\n",
        "            inv -= sold\n",
        "            # ordenar si tocó\n",
        "            if inv <= r:\n",
        "                pending.append((Q, np.random.choice(lead_time_vals, p=lead_time_prob)))\n",
        "                total_order += co\n",
        "            # costos de inventario y faltantes\n",
        "            total_holding += inv * c_h\n",
        "            total_short += short * c_s\n",
        "        costs.append(total_order + total_holding + total_short)\n",
        "    return np.mean(costs), np.mean(total_holding), np.mean(total_short)\n",
        "\n",
        "if __name__ == \"__main__\":\n",
        "    avg_cost, avg_hold, avg_short = sim_month()\n",
        "    print(f\"Coste promedio anual: {avg_cost:.2f}\")\n",
        "    print(f\"Costo inventario promedio: {avg_hold:.2f}\")\n",
        "    print(f\"Costo faltante promedio: {avg_short:.2f}\")"
      ]
    }
  ]
}