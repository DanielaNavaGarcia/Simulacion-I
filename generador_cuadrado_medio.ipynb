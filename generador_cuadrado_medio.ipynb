{
  "nbformat": 4,
  "nbformat_minor": 0,
  "metadata": {
    "colab": {
      "provenance": [],
      "authorship_tag": "ABX9TyNGSOUjhfr5nONAtAmMEM9L",
      "include_colab_link": true
    },
    "kernelspec": {
      "name": "python3",
      "display_name": "Python 3"
    },
    "language_info": {
      "name": "python"
    }
  },
  "cells": [
    {
      "cell_type": "markdown",
      "metadata": {
        "id": "view-in-github",
        "colab_type": "text"
      },
      "source": [
        "<a href=\"https://colab.research.google.com/github/DanielaNavaGarcia/Simulacion-I/blob/main/generador_cuadrado_medio.ipynb\" target=\"_parent\"><img src=\"https://colab.research.google.com/assets/colab-badge.svg\" alt=\"Open In Colab\"/></a>"
      ]
    },
    {
      "cell_type": "markdown",
      "source": [
        "**Generador de cuadrado medio**"
      ],
      "metadata": {
        "id": "L4FaRE3qc2pW"
      }
    },
    {
      "cell_type": "markdown",
      "source": [
        "# GENERADOR DE CUADRADO MEDIO\n",
        "\n",
        "\n",
        "El **método de cuadrado medio** es un generador de números pseudoaleatorios ideado por John von Neumann. Su principio se basa en:\n",
        "\n",
        "\n",
        "1.   Elegir una semilla (número inicial).\n",
        "2.   Se eleva la semilla al cuadrado\n",
        "3.   Se toman los dígitos centrales del resultado como el uevo número pseudoaleatorio.\n",
        "4.    Se repite el proceso para generar más números\n",
        "\n",
        "\n",
        "\n",
        "\n",
        "\n",
        "\n"
      ],
      "metadata": {
        "id": "_7tds1A2I6hu"
      }
    },
    {
      "cell_type": "code",
      "source": [
        "import pandas as pd\n",
        "import tabulate as tb\n",
        "# Ejemplo de uso:\n",
        "semilla = 1964\n",
        "contador = 0\n",
        "numeros_aleatorios = []\n",
        "\n",
        "def generador_cuadrado_medio(semilla):\n",
        "  contador = 0\n",
        "  x_n = semilla\n",
        "  while x_n not in numeros_aleatorios:\n",
        "    contador += 1\n",
        "    numeros_aleatorios.append(x_n)\n",
        "    x_n_cuadrado = str(x_n ** 2)\n",
        "    longitud = len(x_n_cuadrado)\n",
        "    inicio = (longitud - len(str(semilla))) // 2\n",
        "    fin = inicio + len(str(semilla))\n",
        "    x_n = int(x_n_cuadrado[inicio:fin])\n",
        "    print(f\"#{contador}: {x_n}\")\n",
        "\n",
        "  print(f\"Iniciamos en {semilla} y con repeticiones hasta {contador} con el numero {x_n}\")\n",
        "  ## return numeros_aleatorios\n",
        "\n",
        "\n",
        "numeros_aleatorios = generador_cuadrado_medio(semilla)\n",
        "\n",
        "\n"
      ],
      "metadata": {
        "colab": {
          "base_uri": "https://localhost:8080/"
        },
        "collapsed": true,
        "outputId": "5d6a0010-7648-4b5f-c111-e74cd6633e50",
        "id": "4hGs9lFFscF0"
      },
      "execution_count": null,
      "outputs": [
        {
          "output_type": "stream",
          "name": "stdout",
          "text": [
            "#1: 8572\n",
            "#2: 4791\n",
            "#3: 9536\n",
            "#4: 9352\n",
            "#5: 4599\n",
            "#6: 1508\n",
            "#7: 2740\n",
            "#8: 5076\n",
            "#9: 7657\n",
            "#10: 6296\n",
            "#11: 6396\n",
            "#12: 9088\n",
            "#13: 5917\n",
            "#14: 108\n",
            "#15: 1166\n",
            "#16: 3595\n",
            "#17: 9240\n",
            "#18: 3776\n",
            "#19: 2581\n",
            "#20: 6615\n",
            "#21: 7582\n",
            "#22: 4867\n",
            "#23: 6876\n",
            "#24: 2793\n",
            "#25: 8008\n",
            "#26: 1280\n",
            "#27: 6384\n",
            "#28: 7554\n",
            "#29: 629\n",
            "#30: 9564\n",
            "#31: 4700\n",
            "#32: 900\n",
            "#33: 1000\n",
            "#34: 0\n",
            "#35: 0\n",
            "Iniciamos en 1964 y con repeticiones hasta 35 con el numero 0\n"
          ]
        }
      ]
    },
    {
      "cell_type": "code",
      "source": [
        "from tabulate import tabulate\n",
        "import pandas as pd\n",
        "\n",
        "def cuadrado_medio(semilla, n, d):\n",
        "    resultados = []\n",
        "    numeros_generados = set()  # Para detectar ciclos\n",
        "\n",
        "    for i in range(1, n + 1):\n",
        "        cuadrado = str(semilla ** 2).zfill(2*d)  # Elevar al cuadrado y rellenar con ceros\n",
        "        mitad = len(cuadrado) // 2\n",
        "        semilla = int(cuadrado[mitad - d//2 : mitad + d//2])  # Extraer los dígitos centrales\n",
        "\n",
        "        # Evitar ciclos o semilla en 0\n",
        "        if semilla in numeros_generados or semilla == 0:\n",
        "            break\n",
        "        numeros_generados.add(semilla)\n",
        "\n",
        "        ri = semilla / (10**d)  # Normalizar\n",
        "        resultados.append([i, cuadrado, semilla, ri])\n",
        "\n",
        "    # Crear DataFrame para tabular resultados\n",
        "    df = pd.DataFrame(resultados, columns=[\"Iteración\", \"Cuadrado\", \"Xi\", \"Ri\"])\n",
        "    return df\n",
        "\n",
        "# Parámetros: semilla inicial, cantidad de números, cantidad de dígitos\n",
        "semilla_inicial = 1964\n",
        "cantidad = 10\n",
        "digitos = 4\n",
        "\n",
        "tabla = cuadrado_medio(semilla_inicial, cantidad, digitos)\n",
        "\n",
        "# Imprimir tabla con formato bonito\n",
        "print(tabulate(tabla, headers=\"keys\", tablefmt=\"grid\"))\n"
      ],
      "metadata": {
        "colab": {
          "base_uri": "https://localhost:8080/"
        },
        "id": "R1PyMwfXSVWW",
        "outputId": "2aa184f1-1bcf-40b7-c1dd-62a18af1c6d1"
      },
      "execution_count": null,
      "outputs": [
        {
          "output_type": "stream",
          "name": "stdout",
          "text": [
            "+----+-------------+------------+------+--------+\n",
            "|    |   Iteración |   Cuadrado |   Xi |     Ri |\n",
            "+====+=============+============+======+========+\n",
            "|  0 |           1 |   03857296 | 8572 | 0.8572 |\n",
            "+----+-------------+------------+------+--------+\n",
            "|  1 |           2 |   73479184 | 4791 | 0.4791 |\n",
            "+----+-------------+------------+------+--------+\n",
            "|  2 |           3 |   22953681 | 9536 | 0.9536 |\n",
            "+----+-------------+------------+------+--------+\n",
            "|  3 |           4 |   90935296 | 9352 | 0.9352 |\n",
            "+----+-------------+------------+------+--------+\n",
            "|  4 |           5 |   87459904 | 4599 | 0.4599 |\n",
            "+----+-------------+------------+------+--------+\n",
            "|  5 |           6 |   21150801 | 1508 | 0.1508 |\n",
            "+----+-------------+------------+------+--------+\n",
            "|  6 |           7 |   02274064 | 2740 | 0.274  |\n",
            "+----+-------------+------------+------+--------+\n",
            "|  7 |           8 |   07507600 | 5076 | 0.5076 |\n",
            "+----+-------------+------------+------+--------+\n",
            "|  8 |           9 |   25765776 | 7657 | 0.7657 |\n",
            "+----+-------------+------------+------+--------+\n",
            "|  9 |          10 |   58629649 | 6296 | 0.6296 |\n",
            "+----+-------------+------------+------+--------+\n"
          ]
        }
      ]
    }
  ]
}