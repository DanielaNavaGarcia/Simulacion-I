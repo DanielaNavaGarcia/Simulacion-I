{
  "nbformat": 4,
  "nbformat_minor": 0,
  "metadata": {
    "colab": {
      "provenance": [],
      "authorship_tag": "ABX9TyM37gqabdjRMyhPbq7/eiry",
      "include_colab_link": true
    },
    "kernelspec": {
      "name": "python3",
      "display_name": "Python 3"
    },
    "language_info": {
      "name": "python"
    }
  },
  "cells": [
    {
      "cell_type": "markdown",
      "metadata": {
        "id": "view-in-github",
        "colab_type": "text"
      },
      "source": [
        "<a href=\"https://colab.research.google.com/github/DanielaNavaGarcia/Simulacion-I/blob/main/Chi_Cuadrada.ipynb\" target=\"_parent\"><img src=\"https://colab.research.google.com/assets/colab-badge.svg\" alt=\"Open In Colab\"/></a>"
      ]
    },
    {
      "cell_type": "markdown",
      "source": [
        "# Chi cuadrada\n",
        "La prueba de Chi-Cuadrado es un procedimiento estadístico utilizado para determinar si existe una diferencia significativa entre los resultados esperados y los observados en una o más categorías.\n",
        "\n",
        "Se trata de una prueba no paramétrica que es utilizada por los investigadores para examinar las diferencias entre variables categóricas en la misma población. También puede utilizarse para validar o proporcionar un contexto adicional para las frecuencias observadas.\n",
        "\n",
        "La idea básica de la prueba es que se comparan los valores de los datos reales con lo que se esperaría si la hipótesis nula fuera cierta.\n",
        "\n",
        "De esta forma, se busca determinar si una diferencia entre los datos observados y los esperados se debe al azar, o si se debe a una relación entre las variables que se están estudiando.\n",
        "\n"
      ],
      "metadata": {
        "id": "X4_waJehCI_8"
      }
    },
    {
      "cell_type": "code",
      "execution_count": null,
      "metadata": {
        "colab": {
          "base_uri": "https://localhost:8080/"
        },
        "id": "ENCz7kW2BFzh",
        "outputId": "e68c7e0e-e627-4a2d-9403-eb2c25e0dc9e"
      },
      "outputs": [
        {
          "output_type": "stream",
          "name": "stdout",
          "text": [
            "Chi-cuadrado: 9.4000, p-valor: 0.4012\n",
            "Conclusión: No se rechaza H0 (Distribución uniforme)\n"
          ]
        }
      ],
      "source": [
        "import numpy as np\n",
        "import scipy.stats as stats\n",
        "\n",
        "def chi_square_test(random_numbers, num_bins=10, alpha=0.05):\n",
        "\n",
        "    n = len(random_numbers)\n",
        "    expected_freq = n / num_bins  # Frecuencia esperada en cada bin\n",
        "\n",
        "    # Contar frecuencia observada en cada bin\n",
        "    observed_freq, _ = np.histogram(random_numbers, bins=num_bins, range=(0, 1))\n",
        "\n",
        "    # Calcular estadístico de chi-cuadrado\n",
        "    chi_square_stat = np.sum((observed_freq - expected_freq) ** 2 / expected_freq)\n",
        "\n",
        "    # Calcular p-valor\n",
        "    p_value = 1 - stats.chi2.cdf(chi_square_stat, df=num_bins - 1)\n",
        "\n",
        "    # Conclusión de la prueba\n",
        "    conclusion = \"No se rechaza H0 (Distribución uniforme)\" if p_value > alpha else \"Se rechaza H0 (No uniforme)\"\n",
        "\n",
        "    return chi_square_stat, p_value, conclusion\n",
        "\n",
        "# Generar números pseudoaleatorios\n",
        "np.random.seed(42)  # Para reproducibilidad\n",
        "random_numbers = np.random.uniform(0, 1, 1000)  # 1000 números en [0,1]\n",
        "\n",
        "# Ejecutar la prueba\n",
        "test_stat, p_val, result = chi_square_test(random_numbers)\n",
        "\n",
        "# Mostrar resultados\n",
        "print(f\"Chi-cuadrado: {test_stat:.4f}, p-valor: {p_val:.4f}\")\n",
        "print(f\"Conclusión: {result}\")\n"
      ]
    }
  ]
}