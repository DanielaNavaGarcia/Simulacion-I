{
  "nbformat": 4,
  "nbformat_minor": 0,
  "metadata": {
    "colab": {
      "provenance": [],
      "authorship_tag": "ABX9TyO8VHSj97WVU7wpZxTvBKMM",
      "include_colab_link": true
    },
    "kernelspec": {
      "name": "python3",
      "display_name": "Python 3"
    },
    "language_info": {
      "name": "python"
    }
  },
  "cells": [
    {
      "cell_type": "markdown",
      "metadata": {
        "id": "view-in-github",
        "colab_type": "text"
      },
      "source": [
        "<a href=\"https://colab.research.google.com/github/DanielaNavaGarcia/Simulacion-I/blob/main/Generador_cuadrado_medio.ipynb\" target=\"_parent\"><img src=\"https://colab.research.google.com/assets/colab-badge.svg\" alt=\"Open In Colab\"/></a>"
      ]
    },
    {
      "cell_type": "markdown",
      "source": [
        "**Generador de cuadrado medio**"
      ],
      "metadata": {
        "id": "L4FaRE3qc2pW"
      }
    },
    {
      "cell_type": "code",
      "source": [
        "x_0 = 1968\n",
        "\n",
        "x_n = x_0 ** 2\n",
        "print(x_n)"
      ],
      "metadata": {
        "colab": {
          "base_uri": "https://localhost:8080/"
        },
        "id": "pHiG7jI1dDOO",
        "outputId": "039f359a-03cc-4ea0-f134-2ba42d5deccd"
      },
      "execution_count": 16,
      "outputs": [
        {
          "output_type": "stream",
          "name": "stdout",
          "text": [
            "3873024\n"
          ]
        }
      ]
    },
    {
      "cell_type": "code",
      "source": [
        "import pandas as pd\n",
        "\n",
        "# Ejemplo de uso:\n",
        "semilla = 1964\n",
        "contador = 0\n",
        "numeros_aleatorios = []\n",
        "\n",
        "def generador_cuadrado_medio(semilla):\n",
        "  contador = 0\n",
        "  x_n = semilla\n",
        "  while x_n not in numeros_aleatorios:\n",
        "    contador += 1\n",
        "    numeros_aleatorios.append(x_n)\n",
        "    x_n_cuadrado = str(x_n ** 2)\n",
        "    longitud = len(x_n_cuadrado)\n",
        "    inicio = (longitud - len(str(semilla))) // 2\n",
        "    fin = inicio + len(str(semilla))\n",
        "    x_n = int(x_n_cuadrado[inicio:fin])\n",
        "    print(f\"#{contador}: {x_n}\")\n",
        "\n",
        "  print(f\"Iniciamos en {semilla} y con repeticiones hasta {contador} con el numero {x_n}\")\n",
        "  ## return numeros_aleatorios\n",
        "\n",
        "\n",
        "numeros_aleatorios = generador_cuadrado_medio(semilla)\n",
        "\n",
        "\n",
        "\n"
      ],
      "metadata": {
        "colab": {
          "base_uri": "https://localhost:8080/"
        },
        "collapsed": true,
        "id": "J1iiD2MteCSm",
        "outputId": "24d97704-8ff7-43ee-a5d1-17cbd00c1b59"
      },
      "execution_count": 51,
      "outputs": [
        {
          "output_type": "stream",
          "name": "stdout",
          "text": [
            "#1: 8572\n",
            "#2: 4791\n",
            "#3: 9536\n",
            "#4: 9352\n",
            "#5: 4599\n",
            "#6: 1508\n",
            "#7: 2740\n",
            "#8: 5076\n",
            "#9: 7657\n",
            "#10: 6296\n",
            "#11: 6396\n",
            "#12: 9088\n",
            "#13: 5917\n",
            "#14: 108\n",
            "#15: 1166\n",
            "#16: 3595\n",
            "#17: 9240\n",
            "#18: 3776\n",
            "#19: 2581\n",
            "#20: 6615\n",
            "#21: 7582\n",
            "#22: 4867\n",
            "#23: 6876\n",
            "#24: 2793\n",
            "#25: 8008\n",
            "#26: 1280\n",
            "#27: 6384\n",
            "#28: 7554\n",
            "#29: 629\n",
            "#30: 9564\n",
            "#31: 4700\n",
            "#32: 900\n",
            "#33: 1000\n",
            "#34: 0\n",
            "#35: 0\n",
            "Iniciamos en 1964 y con repeticiones hasta 35 con el numero 0\n"
          ]
        }
      ]
    },
    {
      "cell_type": "code",
      "source": [
        "import pandas as pd\n",
        "\n",
        "# Ejemplo de uso:\n",
        "semilla = 1964\n",
        "contador = 0\n",
        "numeros_aleatorios = []\n",
        "\n",
        "def generador_cuadrado_medio(semilla):\n",
        "  contador = 0\n",
        "  x_n = semilla\n",
        "  while x_n not in numeros_aleatorios:\n",
        "    contador += 1\n",
        "    numeros_aleatorios.append(x_n)\n",
        "    x_n_cuadrado = str(x_n ** 2)\n",
        "    longitud = len(x_n_cuadrado)\n",
        "    inicio = (longitud - len(str(semilla))) // 2\n",
        "    fin = inicio + len(str(semilla))\n",
        "    x_n = int(x_n_cuadrado[inicio:fin])\n",
        "    print(f\"#{contador}: {x_n}\")\n",
        "\n",
        "  print(f\"Iniciamos en {semilla} y con repeticiones hasta {contador} con el numero {x_n}\")\n",
        "  ## return numeros_aleatorios\n",
        "\n",
        "\n",
        "numeros_aleatorios = generador_cuadrado_medio(semilla)\n",
        "\n",
        "\n",
        "\n"
      ],
      "metadata": {
        "colab": {
          "base_uri": "https://localhost:8080/"
        },
        "collapsed": true,
        "outputId": "24d97704-8ff7-43ee-a5d1-17cbd00c1b59",
        "id": "4hGs9lFFscF0"
      },
      "execution_count": null,
      "outputs": [
        {
          "output_type": "stream",
          "name": "stdout",
          "text": [
            "#1: 8572\n",
            "#2: 4791\n",
            "#3: 9536\n",
            "#4: 9352\n",
            "#5: 4599\n",
            "#6: 1508\n",
            "#7: 2740\n",
            "#8: 5076\n",
            "#9: 7657\n",
            "#10: 6296\n",
            "#11: 6396\n",
            "#12: 9088\n",
            "#13: 5917\n",
            "#14: 108\n",
            "#15: 1166\n",
            "#16: 3595\n",
            "#17: 9240\n",
            "#18: 3776\n",
            "#19: 2581\n",
            "#20: 6615\n",
            "#21: 7582\n",
            "#22: 4867\n",
            "#23: 6876\n",
            "#24: 2793\n",
            "#25: 8008\n",
            "#26: 1280\n",
            "#27: 6384\n",
            "#28: 7554\n",
            "#29: 629\n",
            "#30: 9564\n",
            "#31: 4700\n",
            "#32: 900\n",
            "#33: 1000\n",
            "#34: 0\n",
            "#35: 0\n",
            "Iniciamos en 1964 y con repeticiones hasta 35 con el numero 0\n"
          ]
        }
      ]
    }
  ]
}