{
  "nbformat": 4,
  "nbformat_minor": 0,
  "metadata": {
    "colab": {
      "provenance": [],
      "authorship_tag": "ABX9TyNg9h0xOHEWqs+6li2/WFYd",
      "include_colab_link": true
    },
    "kernelspec": {
      "name": "python3",
      "display_name": "Python 3"
    },
    "language_info": {
      "name": "python"
    }
  },
  "cells": [
    {
      "cell_type": "markdown",
      "metadata": {
        "id": "view-in-github",
        "colab_type": "text"
      },
      "source": [
        "<a href=\"https://colab.research.google.com/github/DanielaNavaGarcia/Simulacion-I/blob/main/Prueba_de_Rachas.ipynb\" target=\"_parent\"><img src=\"https://colab.research.google.com/assets/colab-badge.svg\" alt=\"Open In Colab\"/></a>"
      ]
    },
    {
      "cell_type": "code",
      "execution_count": 1,
      "metadata": {
        "colab": {
          "base_uri": "https://localhost:8080/"
        },
        "id": "av4EAcQJut8N",
        "outputId": "8d6f810a-07cf-4cdc-a50e-9dbebe82b276"
      },
      "outputs": [
        {
          "output_type": "stream",
          "name": "stdout",
          "text": [
            "Estadístico Z: -1.4864\n",
            "Valor p: 0.1372\n",
            "No hay evidencia suficiente para rechazar la hipótesis de aleatoriedad.\n"
          ]
        }
      ],
      "source": [
        "import numpy as np\n",
        "import scipy.stats as stats\n",
        "\n",
        "def runs_test(data):\n",
        "\n",
        "    median = np.median(data)  # Se usa la mediana como umbral\n",
        "\n",
        "    # Convertimos la serie en una secuencia de +1 y -1\n",
        "    signs = [1 if x >= median else -1 for x in data]\n",
        "\n",
        "    # Contamos el número de rachas\n",
        "    runs = 1  # Siempre hay al menos una racha\n",
        "    for i in range(1, len(signs)):\n",
        "        if signs[i] != signs[i-1]:\n",
        "            runs += 1\n",
        "\n",
        "    # Contamos la cantidad de valores positivos y negativos\n",
        "    n1 = signs.count(1)\n",
        "    n2 = signs.count(-1)\n",
        "\n",
        "    # Cálculo de la media y desviación estándar del número esperado de rachas\n",
        "    expected_runs = ((2 * n1 * n2) / (n1 + n2)) + 1\n",
        "    std_runs = np.sqrt((2 * n1 * n2 * (2 * n1 * n2 - (n1 + n2))) /\n",
        "                       (((n1 + n2) ** 2) * (n1 + n2 - 1)))\n",
        "\n",
        "    # Cálculo del estadístico Z\n",
        "    Z = (runs - expected_runs) / std_runs\n",
        "\n",
        "    # Cálculo del valor p (dos colas)\n",
        "    p_value = 2 * (1 - stats.norm.cdf(abs(Z)))\n",
        "\n",
        "    return Z, p_value\n",
        "\n",
        "# Ejemplo de uso:\n",
        "if __name__ == \"__main__\":\n",
        "    data = np.random.rand(30)  # Generamos 30 números aleatorios entre 0 y 1\n",
        "    Z, p_value = runs_test(data)\n",
        "    print(f\"Estadístico Z: {Z:.4f}\")\n",
        "    print(f\"Valor p: {p_value:.4f}\")\n",
        "    if p_value > 0.05:\n",
        "        print(\"No hay evidencia suficiente para rechazar la hipótesis de aleatoriedad.\")\n",
        "    else:\n",
        "        print(\"Se rechaza la hipótesis de aleatoriedad.\")\n"
      ]
    }
  ]
}