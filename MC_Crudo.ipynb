{
  "nbformat": 4,
  "nbformat_minor": 0,
  "metadata": {
    "colab": {
      "provenance": [],
      "authorship_tag": "ABX9TyN0a8fTwBxw7qZC9KCPqExL",
      "include_colab_link": true
    },
    "kernelspec": {
      "name": "python3",
      "display_name": "Python 3"
    },
    "language_info": {
      "name": "python"
    }
  },
  "cells": [
    {
      "cell_type": "markdown",
      "metadata": {
        "id": "view-in-github",
        "colab_type": "text"
      },
      "source": [
        "<a href=\"https://colab.research.google.com/github/DanielaNavaGarcia/Simulacion-I/blob/main/MC_Crudo.ipynb\" target=\"_parent\"><img src=\"https://colab.research.google.com/assets/colab-badge.svg\" alt=\"Open In Colab\"/></a>"
      ]
    },
    {
      "cell_type": "code",
      "source": [
        "# Librerias\n",
        "import numpy as np\n",
        "import random as rd"
      ],
      "metadata": {
        "id": "GngSQTmrpGyi"
      },
      "execution_count": 3,
      "outputs": []
    },
    {
      "cell_type": "code",
      "source": [
        "def g(x):\n",
        "  return np.sqrt(np.arctan(x))\n",
        "\n",
        "def numeros_aleatorios(n):\n",
        "  x = []  # Inicializa x dentro de la función\n",
        "  for i in range(n):\n",
        "    x.append(rd.uniform(0, 1))\n",
        "  return x\n",
        "\n",
        "x = numeros_aleatorios(100000)\n",
        "\n",
        "# Evaluar g(x) para cada valor en x y sumar los resultados\n",
        "suma_evaluaciones = sum(g(valor) for valor in x)\n",
        "\n",
        "\n",
        "promedio = suma_evaluaciones / len(x)\n",
        "print('Estimacion del valor de la funcion', promedio)"
      ],
      "metadata": {
        "colab": {
          "base_uri": "https://localhost:8080/"
        },
        "id": "pJT3U452qE6r",
        "outputId": "f994f7a4-bfce-44c7-9900-09bb18b77bef"
      },
      "execution_count": 64,
      "outputs": [
        {
          "output_type": "stream",
          "name": "stdout",
          "text": [
            "Estimacion del valor de la funcion 0.6293851063973845\n"
          ]
        }
      ]
    },
    {
      "cell_type": "code",
      "source": [],
      "metadata": {
        "id": "6GJ8nb1Nue8c"
      },
      "execution_count": null,
      "outputs": []
    }
  ]
}